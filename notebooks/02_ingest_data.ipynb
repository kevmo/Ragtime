{
 "cells": [
  {
   "cell_type": "code",
   "execution_count": null,
   "metadata": {
    "vscode": {
     "languageId": "plaintext"
    }
   },
   "outputs": [],
   "source": [
    "import json\n",
    "from elasticsearch import Elasticsearch\n",
    "\n",
    "# Load the SQuAD dataset\n",
    "with open(\"data/squad_dataset.json\", \"r\") as f:\n",
    "    squad_data = json.load(f)[\"data\"]\n",
    "\n",
    "# Initialize Elasticsearch\n",
    "es = Elasticsearch([\"http://localhost:9200\"])\n",
    "\n",
    "# Ingest data into Elasticsearch\n",
    "for i, item in enumerate(squad_data):\n",
    "    es.index(index=\"squad\", id=i, body={\n",
    "        \"question\": item['question'],\n",
    "        \"context\": item['context'],\n",
    "        \"answers\": item['answers']\n",
    "    })\n",
    "\n",
    "print(\"SQuAD dataset ingested into Elasticsearch.\")\n"
   ]
  },
  {
   "cell_type": "code",
   "execution_count": null,
   "metadata": {
    "vscode": {
     "languageId": "plaintext"
    }
   },
   "outputs": [],
   "source": []
  }
 ],
 "metadata": {
  "language_info": {
   "name": "python"
  }
 },
 "nbformat": 4,
 "nbformat_minor": 2
}
