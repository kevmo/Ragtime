{
 "cells": [
  {
   "cell_type": "code",
   "execution_count": null,
   "metadata": {
    "vscode": {
     "languageId": "plaintext"
    }
   },
   "outputs": [],
   "source": [
    "# Retrieve and Save SQuAD Dataset using Hugging Face\n",
    "from datasets import load_dataset\n",
    "import json\n",
    "\n",
    "def download_squad_data():\n",
    "    dataset = load_dataset(\"squad\", split=\"validation\")  # Use \"train\" for the training set\n",
    "    squad_dict = {\n",
    "        \"data\": dataset\n",
    "    }\n",
    "    with open(\"data/squad_dataset.json\", \"w\") as f:\n",
    "        json.dump(squad_dict, f)\n",
    "\n",
    "download_squad_data()\n",
    "print(\"SQuAD dataset downloaded and saved as squad_dataset.json.\")\n"
   ]
  }
 ],
 "metadata": {
  "language_info": {
   "name": "python"
  }
 },
 "nbformat": 4,
 "nbformat_minor": 2
}
